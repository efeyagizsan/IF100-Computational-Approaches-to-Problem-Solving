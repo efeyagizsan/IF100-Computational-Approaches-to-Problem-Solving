{
  "nbformat": 4,
  "nbformat_minor": 0,
  "metadata": {
    "colab": {
      "name": "the1.ipynb",
      "provenance": [],
      "collapsed_sections": []
    },
    "kernelspec": {
      "name": "python3",
      "display_name": "Python 3"
    },
    "language_info": {
      "name": "python"
    }
  },
  "cells": [
    {
      "cell_type": "code",
      "source": [
        "shour = float(input('Please enter the maintenance starting hour: '))\n",
        "sminute = float(input('Please enter the maintenance starting minute: '))\n",
        "ssecond = float(input('Please enter the maintenance starting second: '))\n",
        "ptimer = float(input(\"Please enter the maintenance duration in second(s) according to Perseverance's timer: \"))\n",
        "\n",
        "totalMarsSec = 24 * 60 * 60 + 37 * 60   \n",
        "totalEarthSec = 24 * 60 * 60 \n",
        "ratio_to_convert = totalMarsSec / totalEarthSec\n",
        "\n",
        "TimeEarthSec = ratio_to_convert * ptimer\n",
        "\n",
        "\n",
        "sec = TimeEarthSec % 60\n",
        "TimeEarthMin = (TimeEarthSec - sec) / 60\n",
        "min = TimeEarthMin % 60 \n",
        "hour = (TimeEarthMin - min) / 60\n",
        "\n",
        "\n",
        "Hmars = shour + hour \n",
        "Mmars = sminute + min \n",
        "Smars = ssecond + sec \n",
        "\n",
        "\n",
        "s = Smars % 60\n",
        "\n",
        "m = (Mmars % 60) + (Smars // 60)\n",
        "\n",
        "h = ((Hmars + (Mmars // 60)) % 24)\n",
        "\n",
        "\n",
        "print(f'The time on Earth after the hold-up is {h:.0f}:{m:.0f}:{s:.2f}')\n",
        "\n",
        "\n",
        "\n",
        "\n",
        "\n",
        "\n",
        "\n",
        "\n",
        "\n"
      ],
      "metadata": {
        "colab": {
          "base_uri": "https://localhost:8080/"
        },
        "id": "ErgQegTkrQeN",
        "outputId": "e6268845-7d5a-462d-98e5-806ea406c25e"
      },
      "execution_count": 13,
      "outputs": [
        {
          "output_type": "stream",
          "name": "stdout",
          "text": [
            "Please enter the maintenance starting hour: 8\n",
            "Please enter the maintenance starting minute: 24\n",
            "Please enter the maintenance starting second: 34\n",
            "Please enter the maintenance duration in second(s) according to Perseverance's timer: 60\n",
            "The time on Earth after the hold-up is 8:25:35.54\n"
          ]
        }
      ]
    },
    {
      "cell_type": "code",
      "source": [
        ""
      ],
      "metadata": {
        "id": "zUG9jbFgpRXy"
      },
      "execution_count": null,
      "outputs": []
    }
  ]
}